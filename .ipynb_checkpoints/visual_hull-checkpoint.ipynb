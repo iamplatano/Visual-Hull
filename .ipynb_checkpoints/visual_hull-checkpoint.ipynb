{
 "cells": [
  {
   "cell_type": "code",
   "execution_count": 131,
   "metadata": {},
   "outputs": [
    {
     "name": "stdout",
     "output_type": "stream",
     "text": [
      "(400, 400, 3)\n"
     ]
    }
   ],
   "source": [
    "import numpy as np\n",
    "import os\n",
    "from os import listdir\n",
    "import matplotlib.pyplot as plt\n",
    "from PIL import Image\n",
    "import bpy\n",
    "\n",
    "# Collect color images from folder\n",
    "def load_images(dir_name):\n",
    "    images_matrix = []\n",
    "    folder_path = f\"./{dir_name}\"\n",
    "    for img_name in os.listdir(folder_path):\n",
    "        img = Image.open(f\"./{dir_name}/{img_name}\")\n",
    "        img = img.convert('RGB')\n",
    "        img = np.asarray(img).astype(float)/255\n",
    "        images_matrix.append(img)\n",
    "    return images_matrix\n",
    "\n",
    "images_matrix = load_images(\"cube\")\n",
    "\n",
    "    \n",
    "# segment the images\n",
    "def compute_silhouettes(images_matrix):\n",
    "    sils = []\n",
    "    for image in images_matrix:\n",
    "        silhouette = np.zeros((image.shape[0],image.shape[1]))\n",
    "        for ii in range(image.shape[0]):\n",
    "            for jj in range(image.shape[1]):\n",
    "                if(np.sum(image[ii][jj] > .5)):\n",
    "                    silhouette[ii][jj] = 1.\n",
    "                else:\n",
    "                    silhouette[ii][jj] = 0.\n",
    "        sils.append(silhouette)\n",
    "    return sils\n",
    "    \n",
    "sils = compute_silhouettes(images_matrix)\n",
    "\n"
   ]
  },
  {
   "cell_type": "code",
   "execution_count": 181,
   "metadata": {},
   "outputs": [
    {
     "name": "stdout",
     "output_type": "stream",
     "text": [
      "{'cam0': {'coord': array([ 7.35889, -6.92579,  4.95831]), 'orien': array([67.215  , -1.10462, 46.7117 ])}, 'cam1': {'coord': array([-7.90939 ,  0.033375,  4.75381 ]), 'orien': array([ 63.861   ,   0.665677, -89.9867  ])}, 'cam2': {'coord': array([0.     , 7.75128, 5.50667]), 'orien': array([  59.5318  ,    0.744515, -178.984   ])}, 'cam3': {'coord': array([10.6621  , -0.213482,  6.16148 ]), 'orien': array([62.9396  , -0.555537, 87.8346  ])}}\n"
     ]
    }
   ],
   "source": [
    "# plt.imshow(sils[1],cmap='gray')\n",
    "\n",
    "def load_camera_parameters(file_name):\n",
    "    cam_parameters = {}\n",
    "    file = open(file_name,\"r\")\n",
    "    lines = file.readlines()\n",
    "    for ind,line in enumerate(lines):\n",
    "        coord, orien = line.split(',')\n",
    "        coord = np.array(coord.strip(\"\\n\").split(\" \")).astype(float) ### convert string into float array of coordinates(meters)\n",
    "        orien = np.array(orien.strip(\"\\n\").split(\" \")).astype(float) ### and orientations(degrees)\n",
    "        cam_parameters[f\"cam{ind}\"] = {\"coord\":coord,\"orien\":orien}  \n",
    "    return cam_parameters\n",
    "\n",
    "### Z and Y coordinates and orientations have been swapped in the data to fit the left hand model \n",
    "def compute_camera_matrices(camera_parameters):\n",
    "\n",
    "    f = 555.55# calculated focal length in pixels 555.55 \n",
    "    img_width = 400\n",
    "    camera_matrices = []\n",
    "    K = np.array([[f,0,img_width//2],\n",
    "                 [0,f,img_width//2],\n",
    "                 [0,0,1]]) \n",
    "   \n",
    "    for k in camera_parameters.keys():\n",
    "        coord, orien = camera_parameters.get(k)[\"coord\"],camera_parameters.get(k)[\"orien\"]\n",
    "\n",
    "        th_x = orien[0]\n",
    "        R_x = np.array([[1.,0.,0.],\n",
    "                        [0.,np.cos(th_x),-np.sin(th_x)],\n",
    "                        [0.,np.sin(th_x),np.cos(th_x)]])\n",
    "\n",
    "        th_y = orien[1]\n",
    "        R_y = np.array([[np.cos(th_y),0.,np.sin(th_y)],\n",
    "                       [0.,1.,0.],\n",
    "                       [-np.sin(th_y),0.,np.cos(th_y)]])\n",
    "\n",
    "        th_z = orien[2]\n",
    "        R_z = np.array([[np.cos(th_z),-np.sin(th_z),0.],\n",
    "                       [np.sin(th_z),np.cos(th_z),0.],\n",
    "                       [0.,0.,1.]])\n",
    "\n",
    "        R = R_x@R_y@R_z\n",
    "        \n",
    "        \n",
    "        T = -1*R@coord.T\n",
    "        R_T = np.zeros((3,4))\n",
    "        R_T[:3,:3] = R\n",
    "        R_T[:,3] = T\n",
    "#     R_T = np.array([[1.,0.,0,0.],\n",
    "#                   [0.,1.,0.,0],\n",
    "#                   [0.,0.,1.,6]])\n",
    "        P = K@R_T\n",
    "        camera_matrices.append(P)\n",
    "    return camera_matrices\n",
    "\n",
    "    ### Fill in translation parameters\n",
    "    ### we are using the left hand rule for the coordinate system\n",
    "    \n",
    "camera_parameters = load_camera_parameters(\"camera_pos.txt\")\n",
    "print(camera_parameters)\n",
    "camera_matrices = np.asarray(compute_camera_matrices(camera_parameters))\n",
    "\n"
   ]
  },
  {
   "cell_type": "code",
   "execution_count": 182,
   "metadata": {},
   "outputs": [
    {
     "name": "stdout",
     "output_type": "stream",
     "text": [
      "[0.25 0.25 0.25]\n",
      "[0.25 0.25 0.75]\n",
      "[0.25 0.75 0.25]\n",
      "[0.25 0.75 0.75]\n",
      "[0.75 0.25 0.25]\n",
      "[0.75 0.25 0.75]\n",
      "[0.75 0.75 0.25]\n",
      "[0.75 0.75 0.75]\n"
     ]
    }
   ],
   "source": [
    "### define working volume\n",
    "n = 2\n",
    "l = 1\n",
    "zlim=[]\n",
    "xlim=[]\n",
    "ylim=[]\n",
    "class Voxel:\n",
    "    x = None\n",
    "    y = None\n",
    "    z = None\n",
    "    def __init__(self,exists):\n",
    "        self.exists = exists\n",
    "    def get_coord(self):\n",
    "        return np.array([self.x,self.y,self.z])\n",
    "    \n",
    "working_vol = [[[Voxel(True) for depth in range(n)] for col in range(n)] for row in range(n)]\n",
    "vals = np.linspace(0,l,num=2*n+1,retstep=True)\n",
    "vals = vals[0][1: :2]\n",
    "\n",
    "\n",
    "for ii in range(len(working_vol)):\n",
    "    x_val = vals[ii]\n",
    "    for jj in range(len(working_vol[ii])):\n",
    "        y_val = vals[jj]\n",
    "        for kk in range(len(working_vol[ii][jj])):\n",
    "            z_val = vals[kk]\n",
    "            working_vol[ii][jj][kk].x = x_val\n",
    "            working_vol[ii][jj][kk].y = y_val\n",
    "            working_vol[ii][jj][kk].z = z_val\n",
    "            print(working_vol[ii][jj][kk].get_coord())\n",
    "\n"
   ]
  },
  {
   "cell_type": "code",
   "execution_count": 183,
   "metadata": {},
   "outputs": [
    {
     "data": {
      "text/plain": [
       "0"
      ]
     },
     "execution_count": 183,
     "metadata": {},
     "output_type": "execute_result"
    },
    {
     "data": {
      "image/png": "[encoded data removed]",
      "text/plain": [
       "<Figure size 640x480 with 1 Axes>"
      ]
     },
     "metadata": {},
     "output_type": "display_data"
    }
   ],
   "source": [
    " ### project each voxel in the volume at the silhouette image\n",
    "def project_3D_points(working_vol,sils, camera_matrices):\n",
    "    sil = sils[1]\n",
    "    P = camera_matrices[1]\n",
    "#     f = 555.55\n",
    "#     K = np.array([[f,0,200],\n",
    "#                  [0,f,200],\n",
    "#                  [0,0,1]]) \n",
    "#     R = np.array([[1.,0.,0,0.],\n",
    "#                   [0.,1.,0.,0],\n",
    "#                   [0.,0.,1.,5]])\n",
    "#     P=K@R\n",
    "    reproj_points=[]\n",
    "    \n",
    "    for ii in range(len(working_vol)):\n",
    "        for jj in range(len(working_vol[ii])):\n",
    "            for kk in range(len(working_vol[ii][jj])):\n",
    "                W_x= working_vol[ii][jj][kk].get_coord()\n",
    "                W_x = np.append(W_x,[1]) ## homogenize 3d world point \n",
    "                I_x = P@W_x\n",
    "                I_x = I_x/I_x[2]    \n",
    "                reproj_points.append(I_x)\n",
    "    \n",
    "    plt.figure(dpi=100)\n",
    "    plt.imshow(sil)\n",
    "    for X in reproj_points:\n",
    "        plt.plot(X[0], X[1], 'ko')\n",
    "    return 0\n",
    "project_3D_points(working_vol,sils,camera_matrices)"
   ]
  },
  {
   "cell_type": "code",
   "execution_count": null,
   "metadata": {},
   "outputs": [],
   "source": []
  },
  {
   "cell_type": "code",
   "execution_count": null,
   "metadata": {},
   "outputs": [],
   "source": []
  }
 ],
 "metadata": {
  "kernelspec": {
   "display_name": "Python 3 (ipykernel)",
   "language": "python",
   "name": "python3"
  },
  "language_info": {
   "codemirror_mode": {
    "name": "ipython",
    "version": 3
   },
   "file_extension": ".py",
   "mimetype": "text/x-python",
   "name": "python",
   "nbconvert_exporter": "python",
   "pygments_lexer": "ipython3",
   "version": "3.10.7"
  }
 },
 "nbformat": 4,
 "nbformat_minor": 2
}
