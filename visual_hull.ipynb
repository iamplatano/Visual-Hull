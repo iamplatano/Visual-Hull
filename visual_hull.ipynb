{
 "cells": [
  {
   "cell_type": "code",
   "execution_count": null,
   "metadata": {},
   "outputs": [],
   "source": [
    "import numpy as np\n",
    "import cv\n",
    "# Collect images from chunky\n",
    "\n",
    "# Collect camera coordinates \n",
    "# world-center:x-200 y-56 z104\n",
    "camera_coor = []\n",
    "camera_pos = []\n",
    "camera_matrix = []\n",
    "# segment the images\n",
    "\n",
    "# get camera matrices \n",
    "\n",
    "#\n",
    "\n",
    "\n"
   ]
  }
 ],
 "metadata": {
  "kernelspec": {
   "display_name": "Python 3",
   "language": "python",
   "name": "python3"
  },
  "language_info": {
   "name": "python",
   "version": "3.10.7"
  },
  "orig_nbformat": 4
 },
 "nbformat": 4,
 "nbformat_minor": 2
}
